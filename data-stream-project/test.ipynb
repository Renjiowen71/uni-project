{
 "cells": [
  {
   "cell_type": "code",
   "execution_count": 1,
   "id": "185c6807-0294-4ac1-9052-f6966bc12d2e",
   "metadata": {},
   "outputs": [],
   "source": [
    "from capymoa.stream import CSVStream\n",
    "\n",
    "stream = CSVStream(csv_file_path=\"river_radar/modified_data.csv\", target_attribute_name=\"Tairua\")\n"
   ]
  },
  {
   "cell_type": "code",
   "execution_count": 3,
   "id": "334c2646-f760-4959-a218-a52226842f4c",
   "metadata": {},
   "outputs": [
    {
     "ename": "ValueError",
     "evalue": "y_target_index must be an integer, not <class 'numpy.float64'>",
     "output_type": "error",
     "traceback": [
      "\u001b[1;31m---------------------------------------------------------------------------\u001b[0m",
      "\u001b[1;31mValueError\u001b[0m                                Traceback (most recent call last)",
      "Cell \u001b[1;32mIn[3], line 11\u001b[0m\n\u001b[0;32m      8\u001b[0m fimtdd \u001b[38;5;241m=\u001b[39m MOARegressor(schema\u001b[38;5;241m=\u001b[39mstream\u001b[38;5;241m.\u001b[39mget_schema(), moa_learner\u001b[38;5;241m=\u001b[39mFIMTDD())\n\u001b[0;32m      9\u001b[0m knnreg \u001b[38;5;241m=\u001b[39m KNNRegressor(schema\u001b[38;5;241m=\u001b[39mstream\u001b[38;5;241m.\u001b[39mget_schema(), k\u001b[38;5;241m=\u001b[39m\u001b[38;5;241m3\u001b[39m, window_size\u001b[38;5;241m=\u001b[39m\u001b[38;5;241m1000\u001b[39m)\n\u001b[1;32m---> 11\u001b[0m results_fimtdd \u001b[38;5;241m=\u001b[39m \u001b[43mprequential_evaluation\u001b[49m\u001b[43m(\u001b[49m\u001b[43mstream\u001b[49m\u001b[38;5;241;43m=\u001b[39;49m\u001b[43mstream\u001b[49m\u001b[43m,\u001b[49m\u001b[43m \u001b[49m\u001b[43mlearner\u001b[49m\u001b[38;5;241;43m=\u001b[39;49m\u001b[43mfimtdd\u001b[49m\u001b[43m,\u001b[49m\u001b[43m \u001b[49m\u001b[43mwindow_size\u001b[49m\u001b[38;5;241;43m=\u001b[39;49m\u001b[38;5;241;43m5000\u001b[39;49m\u001b[43m)\u001b[49m\n\u001b[0;32m     12\u001b[0m results_knnreg \u001b[38;5;241m=\u001b[39m prequential_evaluation(stream\u001b[38;5;241m=\u001b[39mstream, learner\u001b[38;5;241m=\u001b[39mknnreg, window_size\u001b[38;5;241m=\u001b[39m\u001b[38;5;241m5000\u001b[39m)\n\u001b[0;32m     14\u001b[0m results_fimtdd[\u001b[38;5;124m'\u001b[39m\u001b[38;5;124mwindowed\u001b[39m\u001b[38;5;124m'\u001b[39m]\u001b[38;5;241m.\u001b[39mmetrics_per_window()\n",
      "File \u001b[1;32m~\\AppData\\Local\\Programs\\Python\\Python312\\Lib\\site-packages\\capymoa\\evaluation\\evaluation.py:563\u001b[0m, in \u001b[0;36mprequential_evaluation\u001b[1;34m(stream, learner, max_instances, window_size, optimise, store_predictions, store_y)\u001b[0m\n\u001b[0;32m    560\u001b[0m \u001b[38;5;28;01melse\u001b[39;00m:\n\u001b[0;32m    561\u001b[0m     y \u001b[38;5;241m=\u001b[39m instance\u001b[38;5;241m.\u001b[39my_value\n\u001b[1;32m--> 563\u001b[0m \u001b[43mevaluator_cumulative\u001b[49m\u001b[38;5;241;43m.\u001b[39;49m\u001b[43mupdate\u001b[49m\u001b[43m(\u001b[49m\u001b[43my\u001b[49m\u001b[43m,\u001b[49m\u001b[43m \u001b[49m\u001b[43mprediction\u001b[49m\u001b[43m)\u001b[49m\n\u001b[0;32m    564\u001b[0m \u001b[38;5;28;01mif\u001b[39;00m window_size \u001b[38;5;129;01mis\u001b[39;00m \u001b[38;5;129;01mnot\u001b[39;00m \u001b[38;5;28;01mNone\u001b[39;00m:\n\u001b[0;32m    565\u001b[0m     evaluator_windowed\u001b[38;5;241m.\u001b[39mupdate(y, prediction)\n",
      "File \u001b[1;32m~\\AppData\\Local\\Programs\\Python\\Python312\\Lib\\site-packages\\capymoa\\evaluation\\evaluation.py:112\u001b[0m, in \u001b[0;36mClassificationEvaluator.update\u001b[1;34m(self, y_target_index, y_pred_index)\u001b[0m\n\u001b[0;32m    102\u001b[0m \u001b[38;5;250m\u001b[39m\u001b[38;5;124;03m\"\"\"Update the evaluator with the ground-truth and the prediction.\u001b[39;00m\n\u001b[0;32m    103\u001b[0m \n\u001b[0;32m    104\u001b[0m \u001b[38;5;124;03m:param y_target_index: The ground-truth class index. This is NOT\u001b[39;00m\n\u001b[1;32m   (...)\u001b[0m\n\u001b[0;32m    109\u001b[0m \u001b[38;5;124;03m:raises ValueError: If the values are not valid indexes in the schema.\u001b[39;00m\n\u001b[0;32m    110\u001b[0m \u001b[38;5;124;03m\"\"\"\u001b[39;00m\n\u001b[0;32m    111\u001b[0m \u001b[38;5;28;01mif\u001b[39;00m \u001b[38;5;129;01mnot\u001b[39;00m \u001b[38;5;28misinstance\u001b[39m(y_target_index, (np\u001b[38;5;241m.\u001b[39minteger, \u001b[38;5;28mint\u001b[39m)):\n\u001b[1;32m--> 112\u001b[0m     \u001b[38;5;28;01mraise\u001b[39;00m \u001b[38;5;167;01mValueError\u001b[39;00m(\n\u001b[0;32m    113\u001b[0m         \u001b[38;5;124mf\u001b[39m\u001b[38;5;124m\"\u001b[39m\u001b[38;5;124my_target_index must be an integer, not \u001b[39m\u001b[38;5;132;01m{\u001b[39;00m\u001b[38;5;28mtype\u001b[39m(y_target_index)\u001b[38;5;132;01m}\u001b[39;00m\u001b[38;5;124m\"\u001b[39m\n\u001b[0;32m    114\u001b[0m     )\n\u001b[0;32m    115\u001b[0m \u001b[38;5;28;01mif\u001b[39;00m \u001b[38;5;129;01mnot\u001b[39;00m (y_pred_index \u001b[38;5;129;01mis\u001b[39;00m \u001b[38;5;28;01mNone\u001b[39;00m \u001b[38;5;129;01mor\u001b[39;00m \u001b[38;5;28misinstance\u001b[39m(y_pred_index, (np\u001b[38;5;241m.\u001b[39minteger, \u001b[38;5;28mint\u001b[39m))):\n\u001b[0;32m    116\u001b[0m     \u001b[38;5;28;01mraise\u001b[39;00m \u001b[38;5;167;01mValueError\u001b[39;00m(\n\u001b[0;32m    117\u001b[0m         \u001b[38;5;124mf\u001b[39m\u001b[38;5;124m\"\u001b[39m\u001b[38;5;124my_pred_index must be an integer, not \u001b[39m\u001b[38;5;132;01m{\u001b[39;00m\u001b[38;5;28mtype\u001b[39m(y_pred_index)\u001b[38;5;132;01m}\u001b[39;00m\u001b[38;5;124m\"\u001b[39m\n\u001b[0;32m    118\u001b[0m     )\n",
      "\u001b[1;31mValueError\u001b[0m: y_target_index must be an integer, not <class 'numpy.float64'>"
     ]
    }
   ],
   "source": [
    "from capymoa.datasets import Fried\n",
    "from moa.classifiers.trees import FIMTDD\n",
    "from capymoa.evaluation.visualization import plot_windowed_results\n",
    "from capymoa.evaluation import prequential_evaluation\n",
    "from capymoa.base import MOARegressor\n",
    "from capymoa.regressor import KNNRegressor\n",
    "\n",
    "fimtdd = MOARegressor(schema=stream.get_schema(), moa_learner=FIMTDD())\n",
    "knnreg = KNNRegressor(schema=stream.get_schema(), k=3, window_size=1000)\n",
    "\n",
    "results_fimtdd = prequential_evaluation(stream=stream, learner=fimtdd, window_size=5000)\n",
    "results_knnreg = prequential_evaluation(stream=stream, learner=knnreg, window_size=5000)\n",
    "\n",
    "results_fimtdd['windowed'].metrics_per_window()\n",
    "# Selecting the metric so that we don't use the default one.\n",
    "# Note that the metric is different from the ylabel parameter, which just overrides the y-axis label.\n",
    "plot_windowed_results(results_fimtdd, results_knnreg, metric=\"coefficient of determination\")"
   ]
  },
  {
   "cell_type": "code",
   "execution_count": null,
   "id": "d435aded-c185-4295-8522-71c7d6686233",
   "metadata": {},
   "outputs": [],
   "source": [
    "from capymoa.datasets import Fried\n",
    "stream = Fried()\n",
    "schema = stream.get_schema()\n",
    "print(schema)"
   ]
  },
  {
   "cell_type": "code",
   "execution_count": null,
   "id": "84764624-201c-449c-90e0-d8d2a9d94b33",
   "metadata": {},
   "outputs": [],
   "source": []
  }
 ],
 "metadata": {
  "kernelspec": {
   "display_name": "Python 3 (ipykernel)",
   "language": "python",
   "name": "python3"
  },
  "language_info": {
   "codemirror_mode": {
    "name": "ipython",
    "version": 3
   },
   "file_extension": ".py",
   "mimetype": "text/x-python",
   "name": "python",
   "nbconvert_exporter": "python",
   "pygments_lexer": "ipython3",
   "version": "3.12.2"
  }
 },
 "nbformat": 4,
 "nbformat_minor": 5
}
